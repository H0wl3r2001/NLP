{
 "cells": [
  {
   "attachments": {},
   "cell_type": "markdown",
   "metadata": {},
   "source": [
    "## Data provenance and characteristics:\n",
    " \n",
    "### When and from where it was collected:\n",
    "Data was collected from the GitHub presented in moodle:  https://github.com/Jl-wei/APIA2022-French-user-reviews-classification-dataset\n",
    "\n",
    "### Text genre(s) and language(s) it covers\n",
    "The data is purely made up of reviews on the app store, all of it written in French.\n",
    "\n",
    "### How it has been annotated\n",
    "Each entry in the data set is annotated with four labels: \"Rating\", \"User Experience\", \"Feature request\" and \"Bug Report\"\n",
    "It also includes the score given by the user in each individual review.\n"
   ]
  },
  {
   "attachments": {},
   "cell_type": "markdown",
   "metadata": {},
   "source": [
    "## Pre-processing\n"
   ]
  },
  {
   "attachments": {},
   "cell_type": "markdown",
   "metadata": {},
   "source": [
    "### Importing the data \n"
   ]
  },
  {
   "cell_type": "code",
   "execution_count": 221,
   "metadata": {},
   "outputs": [
    {
     "name": "stdout",
     "output_type": "stream",
     "text": [
      "                                                data  score  rating  \\\n",
      "0  Contrairement aux idées reçues le traceur GPS ...      5       1   \n",
      "1               Application très pratique et fiable.      5       1   \n",
      "2                                   jadore ma montre      5       1   \n",
      "3  Super application, je l'utilise synchronisé av...      5       1   \n",
      "4                                            Super !      5       1   \n",
      "5  Application très pratique et très simple d'uti...      3       1   \n",
      "6  Suivis du sommeil cardio nombre de pas avec la...      5       1   \n",
      "7                                  Sympa et précis !      5       1   \n",
      "8                                     Très satisfait      5       1   \n",
      "9  bonjour, le calendrier ne se synchronise plus....      2       0   \n",
      "\n",
      "   bug_report  feature_request  user_experience  \n",
      "0           0                0                1  \n",
      "1           0                0                0  \n",
      "2           0                0                0  \n",
      "3           0                0                1  \n",
      "4           0                0                0  \n",
      "5           1                0                0  \n",
      "6           0                0                1  \n",
      "7           0                0                0  \n",
      "8           0                0                0  \n",
      "9           1                0                0  \n",
      "\n",
      " Number of rows: 6000\n"
     ]
    }
   ],
   "source": [
    "import random\n",
    "\n",
    "import nltk\n",
    "import pandas as pd\n",
    "\n",
    "# Read the data from the file\n",
    "data_garmin_df = pd.read_csv('data/Garmin_Connect.csv')\n",
    "data_samsung_df = pd.read_csv('data/Samsung_Health.csv')\n",
    "data_huawei_df = pd.read_csv('data/Huawei_Health.csv')\n",
    "\n",
    "data = pd.concat([data_garmin_df, data_samsung_df, data_huawei_df], ignore_index=True)\n",
    "#data.to_csv('data/concatenated_data.csv', sep='\\t', encoding='utf-8')\n",
    "\n",
    "print(data.head(10))\n",
    "print(\"\\n Number of rows: \" + str(len(data)))\n"
   ]
  },
  {
   "cell_type": "markdown",
   "source": [
    "### Relevant plots"
   ],
   "metadata": {
    "collapsed": false
   }
  },
  {
   "cell_type": "code",
   "execution_count": 222,
   "outputs": [
    {
     "data": {
      "text/plain": "<AxesSubplot:>"
     },
     "execution_count": 222,
     "metadata": {},
     "output_type": "execute_result"
    },
    {
     "data": {
      "text/plain": "<Figure size 720x576 with 1 Axes>",
      "image/png": "[encoded data removed]"
     },
     "metadata": {
      "needs_background": "light"
     },
     "output_type": "display_data"
    }
   ],
   "source": [
    "import matplotlib.pyplot as plt\n",
    "\n",
    "fig_size = plt.rcParams[\"figure.figsize\"]\n",
    "fig_size[0] = 10\n",
    "fig_size[1] = 8\n",
    "plt.rcParams[\"figure.figsize\"] = fig_size\n",
    "\n",
    "data_labels = data[[\"rating\", \"bug_report\", \"feature_request\", \"user_experience\"]]\n",
    "\n",
    "data_labels.sum(axis=0).plot.bar()"
   ],
   "metadata": {
    "collapsed": false
   }
  },
  {
   "cell_type": "markdown",
   "source": [
    "As we can see, the rating label is much more relevant than the other 3 labels, which causes unbalance and might mislead the results if not careful. Also, it seems that there are cases where more than 1 label can be applied. This makes it a multilabel problem:"
   ],
   "metadata": {
    "collapsed": false
   }
  },
  {
   "cell_type": "markdown",
   "source": [
    "![Types of classification problems (https://towardsdatascience.com/multilabel-text-classification-done-right-using-scikit-learn-and-stacked-generalization-f5df2defc3b5#6de1)](./data/Types_of_classification_problems.png \"Types of classification problems\")"
   ],
   "metadata": {
    "collapsed": false
   }
  },
  {
   "cell_type": "markdown",
   "source": [
    "To try to make this problem a binary one, one must make it so that the classification only hits one of the many label columns. That can be achieved by making all possible combinations columns in their own right. Or we can make it into a multiclass one by joining every label as a string in a new column \"tags\" and try to predict it."
   ],
   "metadata": {
    "collapsed": false
   }
  },
  {
   "cell_type": "code",
   "execution_count": 223,
   "outputs": [
    {
     "data": {
      "text/plain": "<AxesSubplot:>"
     },
     "execution_count": 223,
     "metadata": {},
     "output_type": "execute_result"
    },
    {
     "data": {
      "text/plain": "<Figure size 720x576 with 1 Axes>",
      "image/png": "[encoded data removed]"
     },
     "metadata": {
      "needs_background": "light"
     },
     "output_type": "display_data"
    }
   ],
   "source": [
    "#data.insert(2, \"Tags\", [' ' for _ in range(len(data.index))], True)\n",
    "\n",
    "tags = []\n",
    "\n",
    "for index, row in data.iterrows():\n",
    "    str_tag = \"\"\n",
    "    if row[\"rating\"] == 1:\n",
    "        str_tag += \"rating, \"\n",
    "    if row[\"bug_report\"] == 1:\n",
    "        str_tag += \"bug_report, \"\n",
    "    if row[\"feature_request\"] == 1:\n",
    "        str_tag += \"feature_request, \"\n",
    "    if row[\"user_experience\"] == 1:\n",
    "        str_tag += \"user_experience, \"\n",
    "\n",
    "    tags.append(str_tag[0:-2])\n",
    "\n",
    "#print(tags)\n",
    "\n",
    "data.insert(2, \"tags\", tags, True)\n",
    "\n",
    "#print(data.head())\n",
    "\n",
    "data[\"tags\"].value_counts().sort_index().plot.bar(x=\"Tag Distribution of All Observations\", y=\"Number of observations\")"
   ],
   "metadata": {
    "collapsed": false
   }
  },
  {
   "cell_type": "markdown",
   "source": [],
   "metadata": {
    "collapsed": false
   }
  },
  {
   "attachments": {},
   "cell_type": "markdown",
   "metadata": {},
   "source": [
    "### Tokenization \n",
    "\n",
    "*Tokenization* is the process of splitting an input text into tokens (words or other relevant elements, such as punctuation, empty strings). We will use the result as a basis to predict a label.\n"
   ]
  },
  {
   "cell_type": "code",
   "execution_count": 224,
   "metadata": {},
   "outputs": [
    {
     "name": "stderr",
     "output_type": "stream",
     "text": [
      "[nltk_data] Downloading package punkt to\n",
      "[nltk_data]     C:\\Users\\afons\\AppData\\Roaming\\nltk_data...\n",
      "[nltk_data]   Package punkt is already up-to-date!\n"
     ]
    },
    {
     "name": "stdout",
     "output_type": "stream",
     "text": [
      "                                                data  \\\n",
      "0  Contrairement aux idées reçues le traceur GPS ...   \n",
      "1               Application très pratique et fiable.   \n",
      "2                                   jadore ma montre   \n",
      "3  Super application, je l'utilise synchronisé av...   \n",
      "4                                            Super !   \n",
      "\n",
      "                                               token  score  \\\n",
      "0  contrair aux id e re ue le traceur gp est tr s...      5   \n",
      "1                      appliqu tr s pratiqu et fiabl      5   \n",
      "2                                     jador ma montr      5   \n",
      "3  sup appliqu je l utilis synchron avec ma fenix...      5   \n",
      "4                                                sup      5   \n",
      "\n",
      "                      tags  rating  bug_report  feature_request  \\\n",
      "0  rating, user_experience       1           0                0   \n",
      "1                   rating       1           0                0   \n",
      "2                   rating       1           0                0   \n",
      "3  rating, user_experience       1           0                0   \n",
      "4                   rating       1           0                0   \n",
      "\n",
      "   user_experience  \n",
      "0                1  \n",
      "1                0  \n",
      "2                0  \n",
      "3                1  \n",
      "4                0  \n"
     ]
    }
   ],
   "source": [
    "from nltk.tokenize import word_tokenize #principal tokenization class from nltk API\n",
    "from nltk.stem import SnowballStemmer #Stemming method\n",
    "import re #regex library\n",
    "nltk.download('punkt')\n",
    "\n",
    "corpus = []\n",
    "\n",
    "for index, row in data.iterrows():\n",
    "    review = re.sub('\\*', '', row[\"data\"]) # get data, substitute asterisks for empty string, put into review\n",
    "    review = re.sub('[^a-zA-Z]', ' ', review) # from review, remove all non-alphabetic characters\n",
    "    review = re.sub('[^\\w\\s]', '', review) # remove punctuation from review\n",
    "    review = ' '.join([SnowballStemmer('french').stem(w) for w in word_tokenize(review.lower(), language='french')]) # apply stemming\n",
    "    corpus.append(review)\n",
    "\n",
    "#print(corpus)\n",
    "\n",
    "data.insert(1, \"token\", corpus, True)\n",
    "\n",
    "print(data.head())"
   ]
  },
  {
   "cell_type": "markdown",
   "source": [
    "### Separation between train and test datasets\n",
    "Separate in adequate proportions to avoid the overfitting of the modules the data between features and targets. In this case there will be 2 different separations, one for the original multilabel problem and another for the mold into just a multiclass problem. To ensure a more even tag distribution, we must use the *stratify* hyper-parameter"
   ],
   "metadata": {
    "collapsed": false
   }
  },
  {
   "cell_type": "code",
   "execution_count": 225,
   "outputs": [
    {
     "name": "stdout",
     "output_type": "stream",
     "text": [
      "                                                  token  score\n",
      "2985  app ne se ouvr pas il m affich que mon t l pho...      1\n",
      "2360  dommag que cet appliqu ne fonction bien qu ave...      3\n",
      "2648  appliqu tr s var e compt le nombr de pas dan l...      5\n",
      "5881  pas moyen de d sinstall cet appliqu impos e pa...      1\n",
      "1479  permet suiv optimum avec un r sum simpl pr cis...      5\n",
      "...                                                 ...    ...\n",
      "2721  appliqu complet quand vous avez une montr conn...      4\n",
      "1507  sup appli nombreux fonctionnal s et possibil s...      5\n",
      "944   au top coupl avant avec une vivoact et mainten...      5\n",
      "893   synchronis impossibl avec ma forerunn depuis l...      1\n",
      "462                           vrai une appliqu compl te      5\n",
      "\n",
      "[4200 rows x 2 columns]\n",
      "2985                                  bug_report\n",
      "2360    rating, feature_request, user_experience\n",
      "2648                             user_experience\n",
      "5881                                  bug_report\n",
      "1479                             user_experience\n",
      "                          ...                   \n",
      "2721                     rating, user_experience\n",
      "1507                                      rating\n",
      "944                      rating, user_experience\n",
      "893                                   bug_report\n",
      "462                                       rating\n",
      "Name: tags, Length: 4200, dtype: object\n",
      "                                                  token  score\n",
      "412                                                  ok      5\n",
      "3141        manqu le trajet du parcour sous form de map      3\n",
      "1482  simpl d utilis suiv int ress on a envi d en fa...      5\n",
      "3747                                          excellent      5\n",
      "212        appliqu tr s intuit et facil d utilis au top      5\n",
      "...                                                 ...    ...\n",
      "2432                                        int ressent      5\n",
      "4744                                                top      5\n",
      "5516  je n arriv pas a connect ma montr huawei watch...      1\n",
      "2211  dommag il ont supprim la cart de parcour de ma...      3\n",
      "1755                                              top n      4\n",
      "\n",
      "[4200 rows x 2 columns]\n",
      "      rating  bug_report  feature_request  user_experience\n",
      "412        1           0                0                0\n",
      "3141       0           0                1                0\n",
      "1482       1           0                0                1\n",
      "3747       1           0                0                0\n",
      "212        1           0                0                0\n",
      "...      ...         ...              ...              ...\n",
      "2432       1           0                0                0\n",
      "4744       1           0                0                0\n",
      "5516       0           1                0                0\n",
      "2211       0           0                1                0\n",
      "1755       1           0                0                0\n",
      "\n",
      "[4200 rows x 4 columns]\n"
     ]
    }
   ],
   "source": [
    "from sklearn.model_selection import train_test_split\n",
    "\n",
    "features = ['token', 'score']\n",
    "\n",
    "X = data.loc[:,features] #select from data the features\n",
    "\n",
    "X_train_mc, X_mc, y_train_mc, y_mc = train_test_split(\n",
    "    X, data['tags'], train_size=0.7, stratify=data['tags'], random_state=random.randint(0,100)\n",
    ") #mc means multiclass problem\n",
    "\n",
    "X_train_ml, X_ml, y_train_ml, y_ml = train_test_split(\n",
    "    X, data_labels, train_size=0.7, stratify=data_labels, random_state=random.randint(0,100)\n",
    ") #ml means multilabel problem\n",
    "\n",
    "#print(X_train_mc)\n",
    "#print(y_train_mc)\n",
    "#print(X_train_ml)\n",
    "#print(y_train_ml)"
   ],
   "metadata": {
    "collapsed": false
   }
  }
 ],
 "metadata": {
  "kernelspec": {
   "display_name": "Python 3",
   "language": "python",
   "name": "python3"
  },
  "language_info": {
   "codemirror_mode": {
    "name": "ipython",
    "version": 3
   },
   "file_extension": ".py",
   "mimetype": "text/x-python",
   "name": "python",
   "nbconvert_exporter": "python",
   "pygments_lexer": "ipython3",
   "version": "3.8.3"
  },
  "orig_nbformat": 4,
  "vscode": {
   "interpreter": {
    "hash": "9650cb4e16cdd4a8e8e2d128bf38d875813998db22a3c986335f89e0cb4d7bb2"
   }
  }
 },
 "nbformat": 4,
 "nbformat_minor": 2
}
