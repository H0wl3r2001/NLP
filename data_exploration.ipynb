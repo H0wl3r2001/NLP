{
 "cells": [
  {
   "attachments": {},
   "cell_type": "markdown",
   "metadata": {
    "pycharm": {
     "name": "#%% md\n"
    }
   },
   "source": [
    "# Data Exploration\n",
    "\n",
    "### Importing the data"
   ]
  },
  {
   "cell_type": "code",
   "execution_count": 6,
   "metadata": {
    "pycharm": {
     "name": "#%%\n"
    }
   },
   "outputs": [
    {
     "name": "stdout",
     "output_type": "stream",
     "text": [
      "                                                data  score  rating  \\\n",
      "0  Contrairement aux idées reçues le traceur GPS ...      5       1   \n",
      "1               Application très pratique et fiable.      5       1   \n",
      "2                                   jadore ma montre      5       1   \n",
      "3  Super application, je l'utilise synchronisé av...      5       1   \n",
      "4                                            Super !      5       1   \n",
      "\n",
      "   bug_report  feature_request  user_experience  \n",
      "0           0                0                1  \n",
      "1           0                0                0  \n",
      "2           0                0                0  \n",
      "3           0                0                1  \n",
      "4           0                0                0  \n"
     ]
    }
   ],
   "source": [
    "import pandas as pd\n",
    "\n",
    "# Read the data from the file\n",
    "data_garmin_df = pd.read_csv('data/Garmin_Connect.csv')\n",
    "data_samsung_df = pd.read_csv('data/Samsung_Health.csv')\n",
    "data_huawei_df = pd.read_csv('data/Huawei_Health.csv')\n",
    "\n",
    "data = pd.concat([data_garmin_df, data_samsung_df, data_huawei_df], ignore_index=True)\n",
    "\n",
    "print(data.head())"
   ]
  },
  {
   "attachments": {},
   "cell_type": "markdown",
   "metadata": {
    "pycharm": {
     "name": "#%% md\n"
    }
   },
   "source": [
    "### Amount of examples per class"
   ]
  },
  {
   "cell_type": "code",
   "execution_count": 19,
   "metadata": {
    "pycharm": {
     "name": "#%%\n"
    }
   },
   "outputs": [
    {
     "name": "stdout",
     "output_type": "stream",
     "text": [
      "Number of examples:  6000\n",
      "Rating:  3652\n",
      "User Experience:  1131\n",
      "Bug Report:  2067\n",
      "Feature Request:  1040\n"
     ]
    }
   ],
   "source": [
    "# print amount of examples per class in the dataset\n",
    "print(\"Number of examples: \", len(data))\n",
    "print(\"Rating: \", len(data[data['rating'] == 1]))\n",
    "print(\"User Experience: \", len(data[data['user_experience'] == 1]))\n",
    "print(\"Bug Report: \", len(data[data['bug_report'] == 1]))\n",
    "print(\"Feature Request: \", len(data[data['feature_request'] == 1]))\n",
    "\n",
    "# combine all text columns into one list\n",
    "raw_text = \" \".join(data['data'].tolist())\n",
    "\n",
    "#print(raw_text)"
   ]
  },
  {
   "attachments": {},
   "cell_type": "markdown",
   "metadata": {
    "pycharm": {
     "name": "#%% md\n"
    }
   },
   "source": [
    "## Word distribution (TF-IDF)\n"
   ]
  },
  {
   "cell_type": "code",
   "execution_count": 15,
   "metadata": {
    "pycharm": {
     "name": "#%%\n"
    }
   },
   "outputs": [],
   "source": [
    "# tokenize the text\n",
    "from nltk.tokenize import word_tokenize\n",
    "\n",
    "def flatten(l):\n",
    "    return [item for sublist in l for item in sublist]\n",
    "\n",
    "tokenized_text = flatten(data['data'].apply(word_tokenize).tolist())\n",
    "\n",
    "#print(tokenized_text)"
   ]
  },
  {
   "cell_type": "code",
   "execution_count": 20,
   "metadata": {
    "pycharm": {
     "name": "#%%\n"
    }
   },
   "outputs": [
    {
     "name": "stdout",
     "output_type": "stream",
     "text": [
      "[('e', 69864), ('i', 38827), ('a', 38703), ('s', 37937), ('n', 37682), ('t', 34777), ('o', 32612), ('r', 32493), ('u', 27305), ('l', 26281), ('p', 22958), ('c', 18941), ('m', 17826), ('d', 14273), ('on', 12962), ('.', 8719), ('es', 8275), ('é', 8203), ('le', 7552), ('re', 7167), ('en', 7032), ('de', 6935), ('ou', 6593), ('is', 6383), ('er', 6206), ('ne', 6003), (\"'\", 5874), ('f', 5351), ('ai', 5100), ('te', 4908), ('me', 4648), ('q', 4395), ('qu', 4349), ('at', 4287), ('tion', 4161), ('h', 4141), ('g', 4097), ('se', 4008), ('et', 3975), ('co', 3962), ('j', 3913), ('an', 3890), ('ma', 3621), ('la', 3488), ('our', 3364), ('ca', 3252), ('it', 3185), (',', 3032), ('in', 3000), ('app', 2883), ('que', 2755), ('mo', 2728), ('ce', 2710), ('il', 2670), ('us', 2640), ('as', 2598), ('su', 2448), ('un', 2427), ('appl', 2414), ('appli', 2407), ('à', 2327), ('si', 2288), ('or', 2284), ('ch', 2195), ('pas', 2061), ('plication', 1970), ('au', 1964), ('eu', 1904), ('mon', 1893), ('lu', 1852), ('el', 1828), ('!', 1813), ('pr', 1780), ('x', 1773), ('est', 1741), ('application', 1738), ('men', 1735), ('to', 1706), ('av', 1694), ('ont', 1678), ('y', 1660), ('ment', 1655), ('les', 1650), ('mi', 1637), ('..', 1576), ('sa', 1538), ('con', 1496), ('ni', 1465), ('jour', 1442), ('lus', 1420), ('os', 1391), ('plu', 1389), ('S', 1371), ('so', 1369), ('pour', 1344), ('fo', 1344), ('plus', 1333), ('ré', 1295), ('no', 1293), ('je', 1275)]\n"
     ]
    }
   ],
   "source": [
    "from collections import Counter\n",
    "\n",
    "unique_tokens = set(tokenized_text)\n",
    "\n",
    "count_dict = {}\n",
    "for type in unique_tokens:\n",
    "    count_dict[type] = raw_text.count(type)\n",
    "\n",
    "token_counter = Counter(count_dict)\n",
    "print(token_counter.most_common(100))"
   ]
  }
 ],
 "metadata": {
  "kernelspec": {
   "display_name": "Python 3",
   "language": "python",
   "name": "python3"
  },
  "language_info": {
   "codemirror_mode": {
    "name": "ipython",
    "version": 3
   },
   "file_extension": ".py",
   "mimetype": "text/x-python",
   "name": "python",
   "nbconvert_exporter": "python",
   "pygments_lexer": "ipython3",
   "version": "3.10.10"
  },
  "orig_nbformat": 4,
  "vscode": {
   "interpreter": {
    "hash": "bcfe8c9e21b55aa01906cc0de6370d442d81bec12f7f116beb357c60c30ba9f9"
   }
  }
 },
 "nbformat": 4,
 "nbformat_minor": 2
}
